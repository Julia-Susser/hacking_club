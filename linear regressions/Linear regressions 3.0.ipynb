{
 "cells": [
  {
   "cell_type": "code",
   "execution_count": 1,
   "metadata": {},
   "outputs": [
    {
     "name": "stderr",
     "output_type": "stream",
     "text": [
      "/Users/jsusser/opt/anaconda3/lib/python3.7/site-packages/numpy/lib/arraysetops.py:569: FutureWarning: elementwise comparison failed; returning scalar instead, but in the future will perform elementwise comparison\n",
      "  mask |= (ar1 == a)\n"
     ]
    }
   ],
   "source": [
    "import pandas as pd\n",
    "import matplotlib.pyplot as plt\n",
    "import numpy as np\n",
    "df = pd.read_csv(\"../../output/current_values.csv\", index_col=0)"
   ]
  },
  {
   "cell_type": "code",
   "execution_count": 59,
   "metadata": {},
   "outputs": [
    {
     "data": {
      "text/html": [
       "<div>\n",
       "<style scoped>\n",
       "    .dataframe tbody tr th:only-of-type {\n",
       "        vertical-align: middle;\n",
       "    }\n",
       "\n",
       "    .dataframe tbody tr th {\n",
       "        vertical-align: top;\n",
       "    }\n",
       "\n",
       "    .dataframe thead th {\n",
       "        text-align: right;\n",
       "    }\n",
       "</style>\n",
       "<table border=\"1\" class=\"dataframe\">\n",
       "  <thead>\n",
       "    <tr style=\"text-align: right;\">\n",
       "      <th></th>\n",
       "      <th>Year</th>\n",
       "      <th>3digit occupation</th>\n",
       "      <th>2digit occupation</th>\n",
       "      <th>1digit occupation</th>\n",
       "      <th>Age</th>\n",
       "      <th>Asecwt</th>\n",
       "      <th>Exp</th>\n",
       "      <th>Male</th>\n",
       "      <th>Female</th>\n",
       "      <th>White</th>\n",
       "      <th>Exp2</th>\n",
       "      <th>ind</th>\n",
       "      <th>Big_firm</th>\n",
       "      <th>Education</th>\n",
       "      <th>a</th>\n",
       "      <th>Wage</th>\n",
       "    </tr>\n",
       "  </thead>\n",
       "  <tbody>\n",
       "    <tr>\n",
       "      <th>0</th>\n",
       "      <td>1976</td>\n",
       "      <td>184</td>\n",
       "      <td>3</td>\n",
       "      <td>1</td>\n",
       "      <td>28</td>\n",
       "      <td>632</td>\n",
       "      <td>8</td>\n",
       "      <td>1</td>\n",
       "      <td>0</td>\n",
       "      <td>1</td>\n",
       "      <td>64</td>\n",
       "      <td>1</td>\n",
       "      <td>0</td>\n",
       "      <td>90</td>\n",
       "      <td>1280</td>\n",
       "      <td>12.64</td>\n",
       "    </tr>\n",
       "    <tr>\n",
       "      <th>1</th>\n",
       "      <td>1976</td>\n",
       "      <td>315</td>\n",
       "      <td>6</td>\n",
       "      <td>2</td>\n",
       "      <td>32</td>\n",
       "      <td>753</td>\n",
       "      <td>12</td>\n",
       "      <td>0</td>\n",
       "      <td>1</td>\n",
       "      <td>1</td>\n",
       "      <td>144</td>\n",
       "      <td>1</td>\n",
       "      <td>0</td>\n",
       "      <td>90</td>\n",
       "      <td>900</td>\n",
       "      <td>11.47</td>\n",
       "    </tr>\n",
       "    <tr>\n",
       "      <th>2</th>\n",
       "      <td>1976</td>\n",
       "      <td>254</td>\n",
       "      <td>5</td>\n",
       "      <td>2</td>\n",
       "      <td>28</td>\n",
       "      <td>741</td>\n",
       "      <td>8</td>\n",
       "      <td>1</td>\n",
       "      <td>0</td>\n",
       "      <td>1</td>\n",
       "      <td>64</td>\n",
       "      <td>1</td>\n",
       "      <td>0</td>\n",
       "      <td>90</td>\n",
       "      <td>2080</td>\n",
       "      <td>7.07</td>\n",
       "    </tr>\n",
       "    <tr>\n",
       "      <th>3</th>\n",
       "      <td>1976</td>\n",
       "      <td>386</td>\n",
       "      <td>6</td>\n",
       "      <td>2</td>\n",
       "      <td>29</td>\n",
       "      <td>699</td>\n",
       "      <td>9</td>\n",
       "      <td>0</td>\n",
       "      <td>1</td>\n",
       "      <td>1</td>\n",
       "      <td>81</td>\n",
       "      <td>4</td>\n",
       "      <td>0</td>\n",
       "      <td>90</td>\n",
       "      <td>2184</td>\n",
       "      <td>14.54</td>\n",
       "    </tr>\n",
       "    <tr>\n",
       "      <th>4</th>\n",
       "      <td>1976</td>\n",
       "      <td>270</td>\n",
       "      <td>5</td>\n",
       "      <td>2</td>\n",
       "      <td>36</td>\n",
       "      <td>797</td>\n",
       "      <td>16</td>\n",
       "      <td>1</td>\n",
       "      <td>0</td>\n",
       "      <td>1</td>\n",
       "      <td>256</td>\n",
       "      <td>1</td>\n",
       "      <td>0</td>\n",
       "      <td>90</td>\n",
       "      <td>2444</td>\n",
       "      <td>10.95</td>\n",
       "    </tr>\n",
       "  </tbody>\n",
       "</table>\n",
       "</div>"
      ],
      "text/plain": [
       "   Year  3digit occupation  2digit occupation  1digit occupation  Age  Asecwt  \\\n",
       "0  1976                184                  3                  1   28     632   \n",
       "1  1976                315                  6                  2   32     753   \n",
       "2  1976                254                  5                  2   28     741   \n",
       "3  1976                386                  6                  2   29     699   \n",
       "4  1976                270                  5                  2   36     797   \n",
       "\n",
       "   Exp  Male  Female  White  Exp2  ind  Big_firm  Education     a   Wage  \n",
       "0    8     1       0      1    64    1         0         90  1280  12.64  \n",
       "1   12     0       1      1   144    1         0         90   900  11.47  \n",
       "2    8     1       0      1    64    1         0         90  2080   7.07  \n",
       "3    9     0       1      1    81    4         0         90  2184  14.54  \n",
       "4   16     1       0      1   256    1         0         90  2444  10.95  "
      ]
     },
     "execution_count": 59,
     "metadata": {},
     "output_type": "execute_result"
    }
   ],
   "source": [
    "df = df.rename({'1digit industry':\"ind\"}, axis=1)\n",
    "df=df.reset_index(drop=True)\n",
    "df.head()"
   ]
  },
  {
   "cell_type": "code",
   "execution_count": 97,
   "metadata": {},
   "outputs": [
    {
     "data": {
      "text/plain": [
       "Intercept    10.269817\n",
       "ind           0.655107\n",
       "dtype: float64"
      ]
     },
     "execution_count": 97,
     "metadata": {},
     "output_type": "execute_result"
    }
   ],
   "source": [
    "import statsmodels.formula.api as smf\n",
    "k=100000\n",
    "#df = df[(df[\"Wage\"]<20)&(df[\"Annual hours\"]<3000)]\n",
    "df2=df.drop(range(k),axis=0)\n",
    "# Initialise and fit linear regression model using `statsmodels`\n",
    "model = smf.ols('Wage ~ ind', data=df2)\n",
    "model = model.fit()\n",
    "model.params"
   ]
  },
  {
   "cell_type": "code",
   "execution_count": 108,
   "metadata": {},
   "outputs": [
    {
     "data": {
      "image/png": "[encoded data removed]",
      "text/plain": [
       "<Figure size 864x432 with 1 Axes>"
      ]
     },
     "metadata": {
      "needs_background": "light"
     },
     "output_type": "display_data"
    }
   ],
   "source": [
    "df3 = df.iloc[:k]\n",
    "predictions = model.predict(df3[\"ind\"])\n",
    "\n",
    "# Plot regression against actual data\n",
    "plt.figure(figsize=(12, 6))\n",
    "plt.plot(df3['ind'], df3['Wage'], 'go', alpha=0.002)           # scatter plot showing actual data\n",
    "plt.plot(df3['ind'], predictions, 'r', marker='o',linewidth=2)   # regression line\n",
    "plt.xlabel('ind')\n",
    "plt.ylabel('wage')\n",
    "plt.title('ind vs wage')\n",
    "plt.axis([0, 10,0, 20])\n",
    "plt.show()"
   ]
  },
  {
   "cell_type": "code",
   "execution_count": 103,
   "metadata": {},
   "outputs": [
    {
     "data": {
      "text/plain": [
       "0.030993322318398242"
      ]
     },
     "execution_count": 103,
     "metadata": {},
     "output_type": "execute_result"
    }
   ],
   "source": [
    "import math\n",
    "from sklearn.metrics import r2_score\n",
    "from sklearn.metrics import mean_squared_error\n",
    "r2_score(df3['Wage'], predictions)\n",
    "\n"
   ]
  },
  {
   "cell_type": "code",
   "execution_count": 104,
   "metadata": {},
   "outputs": [
    {
     "data": {
      "text/plain": [
       "0        10.924924\n",
       "1        10.924924\n",
       "2        10.924924\n",
       "3        12.890246\n",
       "4        10.924924\n",
       "5        10.924924\n",
       "6        10.924924\n",
       "7        10.924924\n",
       "8        10.924924\n",
       "9        10.924924\n",
       "10       11.580031\n",
       "11       10.924924\n",
       "12       10.924924\n",
       "13       12.235138\n",
       "14       12.235138\n",
       "15       11.580031\n",
       "16       12.235138\n",
       "17       11.580031\n",
       "18       12.235138\n",
       "19       11.580031\n",
       "20       10.924924\n",
       "21       12.235138\n",
       "22       10.924924\n",
       "23       10.924924\n",
       "24       10.924924\n",
       "25       12.235138\n",
       "26       10.924924\n",
       "27       10.924924\n",
       "28       10.924924\n",
       "29       10.924924\n",
       "           ...    \n",
       "99970    11.580031\n",
       "99971    10.924924\n",
       "99972    11.580031\n",
       "99973    10.924924\n",
       "99974    12.235138\n",
       "99975    12.890246\n",
       "99976    10.924924\n",
       "99977    10.924924\n",
       "99978    10.924924\n",
       "99979    10.924924\n",
       "99980    10.924924\n",
       "99981    10.924924\n",
       "99982    12.890246\n",
       "99983    10.924924\n",
       "99984    10.924924\n",
       "99985    12.890246\n",
       "99986    10.924924\n",
       "99987    10.924924\n",
       "99988    10.924924\n",
       "99989    10.924924\n",
       "99990    11.580031\n",
       "99991    10.924924\n",
       "99992    10.924924\n",
       "99993    11.580031\n",
       "99994    12.890246\n",
       "99995    11.580031\n",
       "99996    12.890246\n",
       "99997    10.924924\n",
       "99998    11.580031\n",
       "99999    10.924924\n",
       "Length: 100000, dtype: float64"
      ]
     },
     "execution_count": 104,
     "metadata": {},
     "output_type": "execute_result"
    }
   ],
   "source": [
    "predictions = model.predict(df3)\n",
    "predictions"
   ]
  },
  {
   "cell_type": "code",
   "execution_count": null,
   "metadata": {},
   "outputs": [],
   "source": []
  }
 ],
 "metadata": {
  "kernelspec": {
   "display_name": "Python 3",
   "language": "python",
   "name": "python3"
  },
  "language_info": {
   "codemirror_mode": {
    "name": "ipython",
    "version": 3
   },
   "file_extension": ".py",
   "mimetype": "text/x-python",
   "name": "python",
   "nbconvert_exporter": "python",
   "pygments_lexer": "ipython3",
   "version": "3.7.6"
  }
 },
 "nbformat": 4,
 "nbformat_minor": 4
}
